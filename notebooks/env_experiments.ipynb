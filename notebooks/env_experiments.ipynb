{
 "cells": [
  {
   "cell_type": "code",
   "execution_count": 2,
   "metadata": {},
   "outputs": [],
   "source": [
    "import numpy as np \n",
    "import pandas as pd\n",
    "import matplotlib.pyplot as plt\n",
    "import pickle\n",
    "\n",
    "import os\n",
    "import sys"
   ]
  },
  {
   "cell_type": "code",
   "execution_count": 3,
   "metadata": {},
   "outputs": [],
   "source": [
    "from IPython.display import clear_output\n",
    "from time import sleep"
   ]
  },
  {
   "cell_type": "code",
   "execution_count": 4,
   "metadata": {},
   "outputs": [],
   "source": [
    "#addition module dir to path\n",
    "module_dir = os.path.split( os.getcwd() )[:-1][0]\n",
    "sys.path.append(module_dir)"
   ]
  },
  {
   "cell_type": "code",
   "execution_count": 5,
   "metadata": {},
   "outputs": [],
   "source": [
    "from src.envs.wh_env import WarehouseEnv"
   ]
  },
  {
   "cell_type": "code",
   "execution_count": 6,
   "metadata": {},
   "outputs": [],
   "source": [
    "%load_ext autoreload\n",
    "%autoreload 2"
   ]
  },
  {
   "cell_type": "code",
   "execution_count": 7,
   "metadata": {},
   "outputs": [],
   "source": [
    "pd.set_option('display.max_columns', 500)\n",
    "pd.set_option('display.max_rows', 5000)"
   ]
  },
  {
   "cell_type": "code",
   "execution_count": 8,
   "metadata": {},
   "outputs": [],
   "source": [
    "src_dir = os.getcwd()\n",
    "data_dir = '/Users/albelyakov/Data/rl_warehouse'\n",
    "models_dir = os.path.join(module_dir, 'models')"
   ]
  },
  {
   "cell_type": "code",
   "execution_count": 9,
   "metadata": {},
   "outputs": [],
   "source": [
    "from src.envs import wh_map as wm\n",
    "from src.envs import wh_objects as wo"
   ]
  },
  {
   "cell_type": "code",
   "execution_count": 10,
   "metadata": {},
   "outputs": [],
   "source": [
    "import subprocess\n",
    "import readline"
   ]
  },
  {
   "cell_type": "code",
   "execution_count": 11,
   "metadata": {},
   "outputs": [
    {
     "name": "stdout",
     "output_type": "stream",
     "text": [
      "/anaconda3/envs/reinforcement_learning/bin/python\r\n"
     ]
    }
   ],
   "source": [
    "!which python"
   ]
  },
  {
   "cell_type": "markdown",
   "metadata": {},
   "source": [
    "#### Working with map"
   ]
  },
  {
   "cell_type": "code",
   "execution_count": 12,
   "metadata": {},
   "outputs": [],
   "source": [
    "def render_map(map_obj, agent_obj):\n",
    "#     os.system('clear')\n",
    "#     subprocess.call('reset')\n",
    "    readline.clear_history()\n",
    "    for i, row in enumerate(map_obj):\n",
    "        to_print = list()\n",
    "        for j, obj in enumerate(row):\n",
    "            if (i, j) == agent_obj.coordinates:\n",
    "                to_print.append(agent_obj.sprite)\n",
    "            else:\n",
    "                to_print.append(obj.sprite)\n",
    "        print(''.join(to_print))"
   ]
  },
  {
   "cell_type": "code",
   "execution_count": 11,
   "metadata": {},
   "outputs": [],
   "source": [
    "map_obj = wm.init_wh_map(wm.wh_vis_map)"
   ]
  },
  {
   "cell_type": "code",
   "execution_count": 12,
   "metadata": {},
   "outputs": [
    {
     "ename": "TypeError",
     "evalue": "render_map() missing 1 required positional argument: 'agent_obj'",
     "output_type": "error",
     "traceback": [
      "\u001b[0;31m---------------------------------------------------------------------------\u001b[0m",
      "\u001b[0;31mTypeError\u001b[0m                                 Traceback (most recent call last)",
      "\u001b[0;32m<ipython-input-12-558993a58cb2>\u001b[0m in \u001b[0;36m<module>\u001b[0;34m\u001b[0m\n\u001b[0;32m----> 1\u001b[0;31m \u001b[0mrender_map\u001b[0m\u001b[0;34m(\u001b[0m\u001b[0mmap_obj\u001b[0m\u001b[0;34m)\u001b[0m\u001b[0;34m\u001b[0m\u001b[0;34m\u001b[0m\u001b[0m\n\u001b[0m",
      "\u001b[0;31mTypeError\u001b[0m: render_map() missing 1 required positional argument: 'agent_obj'"
     ]
    }
   ],
   "source": [
    "render_map(map_obj)"
   ]
  },
  {
   "cell_type": "code",
   "execution_count": 34,
   "metadata": {},
   "outputs": [],
   "source": [
    "agent = wo.Agent(\n",
    "    coordinates=(18,9)\n",
    ")"
   ]
  },
  {
   "cell_type": "code",
   "execution_count": null,
   "metadata": {},
   "outputs": [],
   "source": [
    "render_map(map_obj, agent)"
   ]
  },
  {
   "cell_type": "code",
   "execution_count": 56,
   "metadata": {},
   "outputs": [],
   "source": [
    "def sim_loop():\n",
    "    map_obj = wm.init_wh_map(wm.wh_vis_map)\n",
    "    agent_obj = wo.Agent(\n",
    "        coordinates=(18,9)\n",
    "    )\n",
    "    availible_actions = set(['w', 'a', 's', 'd', 'q', 't', 'g', 'i', 'r'])\n",
    "    score = 0\n",
    "    render_map(map_obj, agent_obj)\n",
    "    while True:\n",
    "        while True:\n",
    "            action = input()\n",
    "            if action in availible_actions:\n",
    "                break\n",
    "        if action == 'w':\n",
    "            r = agent_obj.move(to='u',map_obj=map_obj)\n",
    "            if r == 0:\n",
    "                score -= 10\n",
    "        elif action == 'a':\n",
    "            r = agent_obj.move(to='l',map_obj=map_obj)\n",
    "            if r == 0:\n",
    "                score -= 10\n",
    "        elif action == 's':\n",
    "            r = agent_obj.move(to='d',map_obj=map_obj)\n",
    "            if r == 0:\n",
    "                score -= 10\n",
    "        elif action == 'd':\n",
    "            r = agent_obj.move(to='r',map_obj=map_obj)\n",
    "            if r == 0:\n",
    "                score -= 10\n",
    "        elif action == 'q':\n",
    "            print('Breaking simulation.')\n",
    "            break\n",
    "        elif action == 't':\n",
    "            r = agent_obj.take_product(product_name='MacBookPro', map_obj=map_obj)\n",
    "            if r == 0:\n",
    "                score -= 10\n",
    "        elif action == 'g':\n",
    "            r = agent_obj.put_product(product_name='MacBookPro', map_obj=map_obj)\n",
    "            if r == 0:\n",
    "                score -= 10\n",
    "            elif r == -1:\n",
    "                score -= 1000\n",
    "            elif r == 10:\n",
    "                score += 500\n",
    "        elif action == 'i':\n",
    "            r = agent_obj.inspect_shelf(map_obj=map_obj)\n",
    "            if r == 0:\n",
    "                score -= 10\n",
    "            else:\n",
    "                print(r)\n",
    "        elif action == 'w':\n",
    "            print('Waiting...')\n",
    "        score -= 10\n",
    "        render_map(map_obj, agent_obj)\n",
    "        print(f'Score: {score}')"
   ]
  },
  {
   "cell_type": "code",
   "execution_count": null,
   "metadata": {},
   "outputs": [],
   "source": [
    "sim_loop()"
   ]
  },
  {
   "cell_type": "code",
   "execution_count": 244,
   "metadata": {},
   "outputs": [],
   "source": [
    "env = WarehouseEnv(\n",
    "    map_sketch=wm.wh_vis_map, \n",
    "    num_turns=None, \n",
    "    max_order_line=25,\n",
    "    frequency=0.05,\n",
    "    simplified_state=True, \n",
    "    silent=True\n",
    ")"
   ]
  },
  {
   "cell_type": "code",
   "execution_count": 245,
   "metadata": {},
   "outputs": [
    {
     "name": "stdout",
     "output_type": "stream",
     "text": [
      "Timesteps taken: 615\n",
      "Penalties incurred: 251\n"
     ]
    }
   ],
   "source": [
    "epochs = 0\n",
    "penalties, reward = 0, 0\n",
    "\n",
    "frames = [] # for animation\n",
    "\n",
    "done = False\n",
    "\n",
    "while not done:\n",
    "    action = env.action_space.sample()\n",
    "    state, reward, done, info = env.step(action)\n",
    "\n",
    "    if reward < -10:\n",
    "        penalties += 1\n",
    "    \n",
    "    # Put each rendered frame into dict for animation\n",
    "    frames.append({\n",
    "        'frame': env.render(mode='ansi'),\n",
    "        'state': state,\n",
    "        'action': action,\n",
    "        'reward': reward,\n",
    "        'order_list': info['order_list']\n",
    "        }\n",
    "    )\n",
    "\n",
    "    epochs += 1\n",
    "    \n",
    "    \n",
    "print(\"Timesteps taken: {}\".format(epochs))\n",
    "print(\"Penalties incurred: {}\".format(penalties))"
   ]
  },
  {
   "cell_type": "code",
   "execution_count": 246,
   "metadata": {},
   "outputs": [
    {
     "name": "stdout",
     "output_type": "stream",
     "text": [
      "++++++++++++++++++++\n",
      "+.#..#..#..#..#..#.+\n",
      "+.#..#..#..#..#..#.+\n",
      "+.#..#..#..#..#..#.+\n",
      "+.#..#..#..#..#..#.+\n",
      "+..................+\n",
      "+..................+\n",
      "+.#######..#######.+\n",
      "+..................+\n",
      "+..................+\n",
      "+.#######..#######.+\n",
      "+..................+\n",
      "+..................+\n",
      "+.##..##..##..##..#+\n",
      "+.##..##..##..##..#+\n",
      "+.##..##..##..##..#+\n",
      "+.##..##..##..##..#+\n",
      "+..................+\n",
      "+..X...............+\n",
      "+..................+\n",
      "+$$$$$$$$$$$$$$$$$$+\n",
      "Timestep: 457\n",
      "State: [ 18.           3.         -16.62385405 189.32      ]\n",
      "Action: 2\n",
      "Reward: -10\n",
      "Order list: Ноутбук ASUS ZenBook UX530UQ: 1,\n",
      "Ноутбук HP EliteBook 8570p: 1,\n",
      "Ноутбук DELL INSPIRON 5370: 2,\n",
      "Ноутбук ASUS Eee PC 1000HD: 1,\n",
      "Ноутбук Samsung 535U4C: 2,\n",
      "Ноутбук DELL Vostro 3578: 1,\n",
      "Ноутбук Lenovo ThinkPad 13 Ultrabook: 1,\n",
      "Ноутбук HP PAVILION 15-ck000: 1,\n",
      "Ноутбук Lenovo ThinkPad L390: 1,\n",
      "Ноутбук ASUS VivoBook 15 X542UN: 1,\n",
      "Ноутбук DELL 500: 1,\n",
      "Ноутбук Lenovo IdeaPad 720 15: 1,\n",
      "Ноутбук HP ProBook 430 G6: 1,\n",
      "Ноутбук Apple MacBook Air 13 with Retina display Late 2018: 1,\n",
      "Ноутбук HP PAVILION 14-ba100 x360: 1,\n",
      "Ноутбук ASUS ZenBook UX430UQ: 1,\n",
      "Ноутбук ASUS VivoBook Flip 14 TP401CA: 1,\n",
      "Ноутбук Lenovo Legion Y740-17: 1,\n",
      "Ноутбук Google Pixelbook: 1\n"
     ]
    },
    {
     "ename": "KeyboardInterrupt",
     "evalue": "",
     "output_type": "error",
     "traceback": [
      "\u001b[0;31m---------------------------------------------------------------------------\u001b[0m",
      "\u001b[0;31mKeyboardInterrupt\u001b[0m                         Traceback (most recent call last)",
      "\u001b[0;32m<ipython-input-246-cc0ea54022e3>\u001b[0m in \u001b[0;36m<module>\u001b[0;34m\u001b[0m\n\u001b[1;32m     10\u001b[0m         \u001b[0msleep\u001b[0m\u001b[0;34m(\u001b[0m\u001b[0;36m.1\u001b[0m\u001b[0;34m)\u001b[0m\u001b[0;34m\u001b[0m\u001b[0;34m\u001b[0m\u001b[0m\n\u001b[1;32m     11\u001b[0m \u001b[0;34m\u001b[0m\u001b[0m\n\u001b[0;32m---> 12\u001b[0;31m \u001b[0mprint_frames\u001b[0m\u001b[0;34m(\u001b[0m\u001b[0mframes\u001b[0m\u001b[0;34m)\u001b[0m\u001b[0;34m\u001b[0m\u001b[0;34m\u001b[0m\u001b[0m\n\u001b[0m",
      "\u001b[0;32m<ipython-input-246-cc0ea54022e3>\u001b[0m in \u001b[0;36mprint_frames\u001b[0;34m(frames)\u001b[0m\n\u001b[1;32m      8\u001b[0m         \u001b[0mprint\u001b[0m\u001b[0;34m(\u001b[0m\u001b[0;34mf\"Reward: {frame['reward']}\"\u001b[0m\u001b[0;34m)\u001b[0m\u001b[0;34m\u001b[0m\u001b[0;34m\u001b[0m\u001b[0m\n\u001b[1;32m      9\u001b[0m         \u001b[0mprint\u001b[0m\u001b[0;34m(\u001b[0m\u001b[0;34mf\"Order list: {frame['order_list']}\"\u001b[0m\u001b[0;34m)\u001b[0m\u001b[0;34m\u001b[0m\u001b[0;34m\u001b[0m\u001b[0m\n\u001b[0;32m---> 10\u001b[0;31m         \u001b[0msleep\u001b[0m\u001b[0;34m(\u001b[0m\u001b[0;36m.1\u001b[0m\u001b[0;34m)\u001b[0m\u001b[0;34m\u001b[0m\u001b[0;34m\u001b[0m\u001b[0m\n\u001b[0m\u001b[1;32m     11\u001b[0m \u001b[0;34m\u001b[0m\u001b[0m\n\u001b[1;32m     12\u001b[0m \u001b[0mprint_frames\u001b[0m\u001b[0;34m(\u001b[0m\u001b[0mframes\u001b[0m\u001b[0;34m)\u001b[0m\u001b[0;34m\u001b[0m\u001b[0;34m\u001b[0m\u001b[0m\n",
      "\u001b[0;31mKeyboardInterrupt\u001b[0m: "
     ]
    }
   ],
   "source": [
    "def print_frames(frames):\n",
    "    for i, frame in enumerate(frames):\n",
    "        clear_output(wait=True)\n",
    "        print(frame['frame'])\n",
    "        print(f\"Timestep: {i + 1}\")\n",
    "        print(f\"State: {frame['state']}\")\n",
    "        print(f\"Action: {frame['action']}\")\n",
    "        print(f\"Reward: {frame['reward']}\")\n",
    "        print(f\"Order list: {frame['order_list']}\")\n",
    "        sleep(.1)\n",
    "        \n",
    "print_frames(frames)"
   ]
  },
  {
   "cell_type": "markdown",
   "metadata": {},
   "source": [
    "##### Training q-learning agent"
   ]
  },
  {
   "cell_type": "code",
   "execution_count": 95,
   "metadata": {},
   "outputs": [
    {
     "data": {
      "text/plain": [
       "(4,)"
      ]
     },
     "execution_count": 95,
     "metadata": {},
     "output_type": "execute_result"
    }
   ],
   "source": [
    "env.observation_space.shape"
   ]
  },
  {
   "cell_type": "code",
   "execution_count": 10,
   "metadata": {},
   "outputs": [],
   "source": [
    "def encode_state(state, encoder):\n",
    "    state = tuple(state)\n",
    "    if state not in encoder:\n",
    "        encoder[state] = len(encoder)\n",
    "    return encoder[state]"
   ]
  },
  {
   "cell_type": "code",
   "execution_count": 142,
   "metadata": {},
   "outputs": [
    {
     "name": "stdout",
     "output_type": "stream",
     "text": [
      "Episode: 100000\n",
      "Training finished.\n",
      "\n",
      "CPU times: user 26min 19s, sys: 1min 34s, total: 27min 54s\n",
      "Wall time: 26min 44s\n"
     ]
    }
   ],
   "source": [
    "%%time\n",
    "\"\"\"Training the agent\"\"\"\n",
    "\n",
    "import random\n",
    "\n",
    "q_table = np.zeros([18 * 18 * 4, env.action_space.n])\n",
    "\n",
    "# Hyperparameters\n",
    "alpha = 0.1\n",
    "gamma = 0.6\n",
    "epsilon = 0.2\n",
    "n_epoch = 100000\n",
    "\n",
    "# For plotting metrics\n",
    "all_epochs = []\n",
    "all_penalties = []\n",
    "\n",
    "env = WarehouseEnv()\n",
    "encoder = dict()\n",
    "for i in range(1, n_epoch + 1):\n",
    "    state = env.reset()\n",
    "    state = encode_state(state, encoder)\n",
    "    epochs, penalties, reward, = 0, 0, 0\n",
    "    done = False\n",
    "    \n",
    "    while not done:\n",
    "        if random.uniform(0, 1) < epsilon:\n",
    "            action = env.action_space.sample() # Explore action space\n",
    "        else:\n",
    "            action = np.argmax(q_table[state]) # Exploit learned values\n",
    "\n",
    "        next_state, reward, done, info = env.step(action) \n",
    "        \n",
    "        old_value = q_table[state, action]\n",
    "        next_state = encode_state(next_state, encoder)\n",
    "        next_max = np.max(q_table[next_state])\n",
    "        \n",
    "        new_value = (1 - alpha) * old_value + alpha * (reward + gamma * next_max)\n",
    "        q_table[state, action] = new_value\n",
    "        \n",
    "        if reward < -10:\n",
    "            penalties += 1\n",
    "\n",
    "        state = next_state\n",
    "        epochs += 1\n",
    "        \n",
    "    if i % 100 == 0:\n",
    "        clear_output(wait=True)\n",
    "        print(f\"Episode: {i}\")\n",
    "\n",
    "print(\"Training finished.\\n\")"
   ]
  },
  {
   "cell_type": "code",
   "execution_count": 146,
   "metadata": {},
   "outputs": [
    {
     "data": {
      "text/plain": [
       "(1296, 8)"
      ]
     },
     "execution_count": 146,
     "metadata": {},
     "output_type": "execute_result"
    }
   ],
   "source": [
    "q_table.shape"
   ]
  },
  {
   "cell_type": "code",
   "execution_count": 163,
   "metadata": {},
   "outputs": [
    {
     "name": "stdout",
     "output_type": "stream",
     "text": [
      "Results after 100 episodes:\n",
      "Average timesteps per episode: 1000.0\n",
      "Average penalties per episode: 999.0\n"
     ]
    }
   ],
   "source": [
    "\"\"\"Evaluate agent's performance after Q-learning\"\"\"\n",
    "\n",
    "total_epochs, total_penalties = 0, 0\n",
    "episodes = 100\n",
    "\n",
    "for _ in range(episodes):\n",
    "    state = env.reset()\n",
    "    state = encode_state(state, encoder)\n",
    "    epochs, penalties, reward = 0, 0, 0\n",
    "    \n",
    "    done = False\n",
    "    \n",
    "    while not done:\n",
    "        action = np.argmax(q_table[state])\n",
    "#         print(state, action)\n",
    "        state, reward, done, info = env.step(action)\n",
    "        state = encode_state(state, encoder)\n",
    "        if reward == -10:\n",
    "            penalties += 1\n",
    "\n",
    "        epochs += 1\n",
    "\n",
    "    total_penalties += penalties\n",
    "    total_epochs += epochs\n",
    "\n",
    "print(f\"Results after {episodes} episodes:\")\n",
    "print(f\"Average timesteps per episode: {total_epochs / episodes}\")\n",
    "print(f\"Average penalties per episode: {total_penalties / episodes}\")"
   ]
  },
  {
   "cell_type": "code",
   "execution_count": 164,
   "metadata": {},
   "outputs": [
    {
     "name": "stdout",
     "output_type": "stream",
     "text": [
      "Timesteps taken: 1000\n",
      "Penalties incurred: 0\n"
     ]
    }
   ],
   "source": [
    "epochs = 0\n",
    "penalties, reward = 0, 0\n",
    "\n",
    "frames = [] # for animation\n",
    "\n",
    "done = False\n",
    "\n",
    "state = env.reset()\n",
    "state = encode_state(state, encoder)\n",
    "while not done:\n",
    "    action = np.argmax(q_table[state])\n",
    "    state, reward, done, info = env.step(action)\n",
    "    state = encode_state(state, encoder)\n",
    "    if reward < -10:\n",
    "        penalties += 1\n",
    "    \n",
    "    # Put each rendered frame into dict for animation\n",
    "    frames.append({\n",
    "        'frame': env.render(mode='ansi'),\n",
    "        'state': state,\n",
    "        'action': action,\n",
    "        'reward': reward\n",
    "        }\n",
    "    )\n",
    "\n",
    "    epochs += 1\n",
    "    \n",
    "    \n",
    "print(\"Timesteps taken: {}\".format(epochs))\n",
    "print(\"Penalties incurred: {}\".format(penalties))"
   ]
  },
  {
   "cell_type": "code",
   "execution_count": null,
   "metadata": {},
   "outputs": [],
   "source": [
    "def print_frames(frames):\n",
    "    for i, frame in enumerate(frames):\n",
    "        clear_output(wait=True)\n",
    "        print(frame['frame'])\n",
    "        print(f\"Timestep: {i + 1}\")\n",
    "        print(f\"State: {frame['state']}\")\n",
    "        print(f\"Action: {frame['action']}\")\n",
    "        print(f\"Reward: {frame['reward']}\")\n",
    "        sleep(.05)\n",
    "        \n",
    "print_frames(frames)"
   ]
  },
  {
   "cell_type": "code",
   "execution_count": 12,
   "metadata": {},
   "outputs": [],
   "source": [
    "from src.models.q_table import QTable"
   ]
  },
  {
   "cell_type": "code",
   "execution_count": 150,
   "metadata": {},
   "outputs": [],
   "source": [
    "env = WarehouseEnv(\n",
    "    map_sketch=wm.wh_vis_map, \n",
    "    catalog=None, \n",
    "    num_turns=2000, \n",
    "    max_order_line=None,\n",
    "    agent_max_load=200, \n",
    "    agent_max_volume=1000,\n",
    "    agent_start_pos=(18, 9),\n",
    "    shelf_max_load=200, \n",
    "    shelf_max_volume=100,\n",
    "    frequency=0.05, \n",
    "    simplified_state=False,\n",
    "    only_one_product= True, \n",
    "    win_size=(300, 300), \n",
    "    silent=True\n",
    ")"
   ]
  },
  {
   "cell_type": "code",
   "execution_count": 151,
   "metadata": {},
   "outputs": [],
   "source": [
    "s = env.reset()"
   ]
  },
  {
   "cell_type": "code",
   "execution_count": 152,
   "metadata": {},
   "outputs": [
    {
     "data": {
      "image/png": "[encoded data removed]",
      "text/plain": [
       "<Figure size 432x288 with 1 Axes>"
      ]
     },
     "metadata": {
      "needs_background": "light"
     },
     "output_type": "display_data"
    }
   ],
   "source": [
    "_ = plt.imshow(s.reshape(23,20))"
   ]
  },
  {
   "cell_type": "code",
   "execution_count": 178,
   "metadata": {},
   "outputs": [],
   "source": [
    "s, r, d, i = env.step(5)"
   ]
  },
  {
   "cell_type": "code",
   "execution_count": 179,
   "metadata": {},
   "outputs": [
    {
     "data": {
      "text/plain": [
       "{}"
      ]
     },
     "execution_count": 179,
     "metadata": {},
     "output_type": "execute_result"
    }
   ],
   "source": [
    "env.agent.inventory"
   ]
  },
  {
   "cell_type": "code",
   "execution_count": 180,
   "metadata": {},
   "outputs": [
    {
     "name": "stdout",
     "output_type": "stream",
     "text": [
      "507\n"
     ]
    },
    {
     "data": {
      "image/png": "[encoded data removed]",
      "text/plain": [
       "<Figure size 432x288 with 1 Axes>"
      ]
     },
     "metadata": {
      "needs_background": "light"
     },
     "output_type": "display_data"
    }
   ],
   "source": [
    "_ = plt.imshow(s.reshape(23,20))\n",
    "print(env.score)"
   ]
  },
  {
   "cell_type": "code",
   "execution_count": 277,
   "metadata": {},
   "outputs": [],
   "source": [
    "model = QTable(\n",
    "    environment=env, \n",
    "    verbose=True,\n",
    "    alpha=0.40,\n",
    "    gamma=0.90,\n",
    "    epsilon=0.27\n",
    ")"
   ]
  },
  {
   "cell_type": "code",
   "execution_count": 283,
   "metadata": {},
   "outputs": [
    {
     "name": "stderr",
     "output_type": "stream",
     "text": [
      "100%|██████████| 30/30 [00:09<00:00,  3.20it/s]"
     ]
    },
    {
     "name": "stdout",
     "output_type": "stream",
     "text": [
      "Training finished.\n",
      "\n"
     ]
    },
    {
     "name": "stderr",
     "output_type": "stream",
     "text": [
      "\n"
     ]
    }
   ],
   "source": [
    "model.train(n_epoch=30)\n",
    "# model.save_model(os.path.join(models_dir, 'qt_02_08_012_50k'))"
   ]
  },
  {
   "cell_type": "code",
   "execution_count": 284,
   "metadata": {},
   "outputs": [
    {
     "name": "stdout",
     "output_type": "stream",
     "text": [
      "Results after 10 episodes:\n",
      "Average timesteps per episode: 76.7\n",
      "Average penalties per episode: 0.0\n",
      "Average rewards per episode: 0.0\n"
     ]
    }
   ],
   "source": [
    "# model.verbose=True\n",
    "_ = model.evaluate_performance(episodes=10)"
   ]
  },
  {
   "cell_type": "code",
   "execution_count": 285,
   "metadata": {},
   "outputs": [
    {
     "name": "stdout",
     "output_type": "stream",
     "text": [
      "Timesteps taken: 71\n",
      "Penalties incurred: 0\n",
      "Rewards incurred: 0\n"
     ]
    }
   ],
   "source": [
    "model.operate()"
   ]
  },
  {
   "cell_type": "code",
   "execution_count": 286,
   "metadata": {},
   "outputs": [
    {
     "name": "stdout",
     "output_type": "stream",
     "text": [
      "++++++++++++++++++++\n",
      "+.#..#..#..#..#..#.+\n",
      "+.#..#..#..#..#..#.+\n",
      "+.#..#..#..#..#..#.+\n",
      "+.#..#..#..#..#..#.+\n",
      "+..................+\n",
      "+..................+\n",
      "+.#######..#######.+\n",
      "+..................+\n",
      "+..................+\n",
      "+.#######..#######.+\n",
      "+..................+\n",
      "+..................+\n",
      "+.##..##..##..##..#+\n",
      "+.##..##..##..##..#+\n",
      "+.##..##..##..##..#+\n",
      "+.##..##..##..##..#+\n",
      "+..................+\n",
      "+........X.........+\n",
      "+..................+\n",
      "+$$$$$$$$$$$$$$$$$$+\n",
      "Timestep: 144\n",
      "State: 0\n",
      "Action: 7\n",
      "Reward: -10\n"
     ]
    }
   ],
   "source": [
    "model.show_operation()"
   ]
  },
  {
   "cell_type": "markdown",
   "metadata": {},
   "source": [
    "#### OrderList class experiments"
   ]
  },
  {
   "cell_type": "code",
   "execution_count": 10,
   "metadata": {},
   "outputs": [],
   "source": [
    "from src.utils import config as co"
   ]
  },
  {
   "cell_type": "code",
   "execution_count": 11,
   "metadata": {},
   "outputs": [],
   "source": [
    "from src.envs.wh_objects import OrderList"
   ]
  },
  {
   "cell_type": "code",
   "execution_count": 17,
   "metadata": {},
   "outputs": [],
   "source": [
    "catalog = pd.read_csv(co.PATH_TO_CATALOG, index_col = 0)"
   ]
  },
  {
   "cell_type": "code",
   "execution_count": 18,
   "metadata": {},
   "outputs": [
    {
     "data": {
      "text/html": [
       "<div>\n",
       "<style scoped>\n",
       "    .dataframe tbody tr th:only-of-type {\n",
       "        vertical-align: middle;\n",
       "    }\n",
       "\n",
       "    .dataframe tbody tr th {\n",
       "        vertical-align: top;\n",
       "    }\n",
       "\n",
       "    .dataframe thead th {\n",
       "        text-align: right;\n",
       "    }\n",
       "</style>\n",
       "<table border=\"1\" class=\"dataframe\">\n",
       "  <thead>\n",
       "    <tr style=\"text-align: right;\">\n",
       "      <th></th>\n",
       "      <th>name</th>\n",
       "      <th>price</th>\n",
       "      <th>purchase</th>\n",
       "      <th>weigth</th>\n",
       "      <th>long</th>\n",
       "      <th>width</th>\n",
       "      <th>depth</th>\n",
       "      <th>volume</th>\n",
       "    </tr>\n",
       "  </thead>\n",
       "  <tbody>\n",
       "    <tr>\n",
       "      <th>0</th>\n",
       "      <td>Ноутбук ASUS ZenBook UX430UQ</td>\n",
       "      <td>57674.133515</td>\n",
       "      <td>0.016667</td>\n",
       "      <td>1.25</td>\n",
       "      <td>3.240</td>\n",
       "      <td>2.250</td>\n",
       "      <td>2.250</td>\n",
       "      <td>16.402500</td>\n",
       "    </tr>\n",
       "    <tr>\n",
       "      <th>2</th>\n",
       "      <td>Ноутбук HP ProBook 655 G3</td>\n",
       "      <td>46060.000000</td>\n",
       "      <td>1.966667</td>\n",
       "      <td>2.31</td>\n",
       "      <td>3.780</td>\n",
       "      <td>2.570</td>\n",
       "      <td>2.570</td>\n",
       "      <td>24.966522</td>\n",
       "    </tr>\n",
       "    <tr>\n",
       "      <th>3</th>\n",
       "      <td>Ноутбук Lenovo IdeaPad 320 17 Intel</td>\n",
       "      <td>29750.000000</td>\n",
       "      <td>0.016667</td>\n",
       "      <td>2.80</td>\n",
       "      <td>4.180</td>\n",
       "      <td>2.926</td>\n",
       "      <td>2.926</td>\n",
       "      <td>35.786970</td>\n",
       "    </tr>\n",
       "    <tr>\n",
       "      <th>4</th>\n",
       "      <td>Ноутбук Acer ASPIRE S5-371</td>\n",
       "      <td>57490.000000</td>\n",
       "      <td>5.500000</td>\n",
       "      <td>1.30</td>\n",
       "      <td>3.270</td>\n",
       "      <td>2.880</td>\n",
       "      <td>2.880</td>\n",
       "      <td>27.122688</td>\n",
       "    </tr>\n",
       "    <tr>\n",
       "      <th>5</th>\n",
       "      <td>Ноутбук Apple MacBook Pro 13 with Retina displ...</td>\n",
       "      <td>155900.000000</td>\n",
       "      <td>1.800000</td>\n",
       "      <td>1.37</td>\n",
       "      <td>3.041</td>\n",
       "      <td>2.124</td>\n",
       "      <td>2.124</td>\n",
       "      <td>13.719094</td>\n",
       "    </tr>\n",
       "  </tbody>\n",
       "</table>\n",
       "</div>"
      ],
      "text/plain": [
       "                                                name          price  purchase  \\\n",
       "0                       Ноутбук ASUS ZenBook UX430UQ   57674.133515  0.016667   \n",
       "2                          Ноутбук HP ProBook 655 G3   46060.000000  1.966667   \n",
       "3                Ноутбук Lenovo IdeaPad 320 17 Intel   29750.000000  0.016667   \n",
       "4                         Ноутбук Acer ASPIRE S5-371   57490.000000  5.500000   \n",
       "5  Ноутбук Apple MacBook Pro 13 with Retina displ...  155900.000000  1.800000   \n",
       "\n",
       "   weigth   long  width  depth     volume  \n",
       "0    1.25  3.240  2.250  2.250  16.402500  \n",
       "2    2.31  3.780  2.570  2.570  24.966522  \n",
       "3    2.80  4.180  2.926  2.926  35.786970  \n",
       "4    1.30  3.270  2.880  2.880  27.122688  \n",
       "5    1.37  3.041  2.124  2.124  13.719094  "
      ]
     },
     "execution_count": 18,
     "metadata": {},
     "output_type": "execute_result"
    }
   ],
   "source": [
    "catalog.head()"
   ]
  },
  {
   "cell_type": "code",
   "execution_count": 16,
   "metadata": {},
   "outputs": [
    {
     "data": {
      "text/html": [
       "<div>\n",
       "<style scoped>\n",
       "    .dataframe tbody tr th:only-of-type {\n",
       "        vertical-align: middle;\n",
       "    }\n",
       "\n",
       "    .dataframe tbody tr th {\n",
       "        vertical-align: top;\n",
       "    }\n",
       "\n",
       "    .dataframe thead th {\n",
       "        text-align: right;\n",
       "    }\n",
       "</style>\n",
       "<table border=\"1\" class=\"dataframe\">\n",
       "  <thead>\n",
       "    <tr style=\"text-align: right;\">\n",
       "      <th></th>\n",
       "      <th>price</th>\n",
       "      <th>purchase</th>\n",
       "      <th>weigth</th>\n",
       "      <th>long</th>\n",
       "      <th>width</th>\n",
       "      <th>depth</th>\n",
       "      <th>volume</th>\n",
       "    </tr>\n",
       "  </thead>\n",
       "  <tbody>\n",
       "    <tr>\n",
       "      <th>count</th>\n",
       "      <td>415.000000</td>\n",
       "      <td>415.000000</td>\n",
       "      <td>415.000000</td>\n",
       "      <td>411.000000</td>\n",
       "      <td>410.000000</td>\n",
       "      <td>410.000000</td>\n",
       "      <td>409.000000</td>\n",
       "    </tr>\n",
       "    <tr>\n",
       "      <th>mean</th>\n",
       "      <td>57674.133515</td>\n",
       "      <td>3.385944</td>\n",
       "      <td>1.946275</td>\n",
       "      <td>3.560887</td>\n",
       "      <td>2.462067</td>\n",
       "      <td>2.462067</td>\n",
       "      <td>22.237322</td>\n",
       "    </tr>\n",
       "    <tr>\n",
       "      <th>std</th>\n",
       "      <td>39553.855916</td>\n",
       "      <td>4.082269</td>\n",
       "      <td>0.600479</td>\n",
       "      <td>0.375054</td>\n",
       "      <td>0.280453</td>\n",
       "      <td>0.280453</td>\n",
       "      <td>6.868680</td>\n",
       "    </tr>\n",
       "    <tr>\n",
       "      <th>min</th>\n",
       "      <td>100.000000</td>\n",
       "      <td>0.016667</td>\n",
       "      <td>0.850000</td>\n",
       "      <td>2.580000</td>\n",
       "      <td>1.830000</td>\n",
       "      <td>1.830000</td>\n",
       "      <td>8.640162</td>\n",
       "    </tr>\n",
       "    <tr>\n",
       "      <th>25%</th>\n",
       "      <td>32602.500000</td>\n",
       "      <td>0.533333</td>\n",
       "      <td>1.500000</td>\n",
       "      <td>3.240000</td>\n",
       "      <td>2.265000</td>\n",
       "      <td>2.265000</td>\n",
       "      <td>16.745054</td>\n",
       "    </tr>\n",
       "    <tr>\n",
       "      <th>50%</th>\n",
       "      <td>54525.000000</td>\n",
       "      <td>1.583333</td>\n",
       "      <td>1.946275</td>\n",
       "      <td>3.614000</td>\n",
       "      <td>2.465000</td>\n",
       "      <td>2.465000</td>\n",
       "      <td>22.395591</td>\n",
       "    </tr>\n",
       "    <tr>\n",
       "      <th>75%</th>\n",
       "      <td>68836.000000</td>\n",
       "      <td>4.975000</td>\n",
       "      <td>2.200000</td>\n",
       "      <td>3.814500</td>\n",
       "      <td>2.602250</td>\n",
       "      <td>2.602250</td>\n",
       "      <td>25.817859</td>\n",
       "    </tr>\n",
       "    <tr>\n",
       "      <th>max</th>\n",
       "      <td>274870.000000</td>\n",
       "      <td>16.316667</td>\n",
       "      <td>4.700000</td>\n",
       "      <td>4.323000</td>\n",
       "      <td>3.800000</td>\n",
       "      <td>3.800000</td>\n",
       "      <td>46.734976</td>\n",
       "    </tr>\n",
       "  </tbody>\n",
       "</table>\n",
       "</div>"
      ],
      "text/plain": [
       "               price    purchase      weigth        long       width  \\\n",
       "count     415.000000  415.000000  415.000000  411.000000  410.000000   \n",
       "mean    57674.133515    3.385944    1.946275    3.560887    2.462067   \n",
       "std     39553.855916    4.082269    0.600479    0.375054    0.280453   \n",
       "min       100.000000    0.016667    0.850000    2.580000    1.830000   \n",
       "25%     32602.500000    0.533333    1.500000    3.240000    2.265000   \n",
       "50%     54525.000000    1.583333    1.946275    3.614000    2.465000   \n",
       "75%     68836.000000    4.975000    2.200000    3.814500    2.602250   \n",
       "max    274870.000000   16.316667    4.700000    4.323000    3.800000   \n",
       "\n",
       "            depth      volume  \n",
       "count  410.000000  409.000000  \n",
       "mean     2.462067   22.237322  \n",
       "std      0.280453    6.868680  \n",
       "min      1.830000    8.640162  \n",
       "25%      2.265000   16.745054  \n",
       "50%      2.465000   22.395591  \n",
       "75%      2.602250   25.817859  \n",
       "max      3.800000   46.734976  "
      ]
     },
     "execution_count": 16,
     "metadata": {},
     "output_type": "execute_result"
    }
   ],
   "source": [
    "catalog.describe()"
   ]
  },
  {
   "cell_type": "code",
   "execution_count": 17,
   "metadata": {},
   "outputs": [
    {
     "name": "stdout",
     "output_type": "stream",
     "text": [
      "<class 'pandas.core.frame.DataFrame'>\n",
      "Int64Index: 415 entries, 0 to 424\n",
      "Data columns (total 8 columns):\n",
      "name        415 non-null object\n",
      "price       415 non-null float64\n",
      "purchase    415 non-null float64\n",
      "weigth      415 non-null float64\n",
      "long        411 non-null float64\n",
      "width       410 non-null float64\n",
      "depth       410 non-null float64\n",
      "volume      409 non-null float64\n",
      "dtypes: float64(7), object(1)\n",
      "memory usage: 29.2+ KB\n"
     ]
    }
   ],
   "source": [
    "catalog.info()"
   ]
  },
  {
   "cell_type": "code",
   "execution_count": 19,
   "metadata": {},
   "outputs": [
    {
     "name": "stdout",
     "output_type": "stream",
     "text": [
      "1405.1666666666667\n"
     ]
    }
   ],
   "source": [
    "print(catalog.purchase.sum())"
   ]
  },
  {
   "cell_type": "code",
   "execution_count": 187,
   "metadata": {},
   "outputs": [],
   "source": [
    "ol = OrderList(path_to_catalog=co.PATH_TO_CATALOG)"
   ]
  },
  {
   "cell_type": "code",
   "execution_count": 211,
   "metadata": {},
   "outputs": [
    {
     "name": "stdout",
     "output_type": "stream",
     "text": [
      "Ноутбук ASUS Vivobook 17 X705MA: 1,\n",
      "Ноутбук MSI GF75 Thin 8RC: 1,\n",
      "Ноутбук ASUS TUF Gaming FX705GM: 1,\n",
      "Ноутбук HP 17-bs000: 1,\n",
      "Ноутбук Lenovo THINKPAD T530: 1,\n",
      "Ноутбук MSI GE75 8SF Raider: 1\n"
     ]
    }
   ],
   "source": [
    "ol()\n",
    "print(ol)"
   ]
  },
  {
   "cell_type": "code",
   "execution_count": 212,
   "metadata": {},
   "outputs": [
    {
     "data": {
      "text/plain": [
       "1218"
      ]
     },
     "execution_count": 212,
     "metadata": {},
     "output_type": "execute_result"
    }
   ],
   "source": [
    "np.sum([int(prod.n_purchase) for prod in ol.list_of_products])"
   ]
  },
  {
   "cell_type": "code",
   "execution_count": 216,
   "metadata": {},
   "outputs": [
    {
     "data": {
      "text/plain": [
       "5"
      ]
     },
     "execution_count": 216,
     "metadata": {},
     "output_type": "execute_result"
    }
   ],
   "source": [
    "len(ol)"
   ]
  },
  {
   "cell_type": "code",
   "execution_count": 215,
   "metadata": {},
   "outputs": [],
   "source": [
    "del ol['Ноутбук MSI GE75 8SF Raider']"
   ]
  },
  {
   "cell_type": "markdown",
   "metadata": {},
   "source": [
    "### Testing model results"
   ]
  },
  {
   "cell_type": "code",
   "execution_count": 1,
   "metadata": {},
   "outputs": [
    {
     "name": "stderr",
     "output_type": "stream",
     "text": [
      "Using TensorFlow backend.\n"
     ]
    }
   ],
   "source": [
    "from keras.optimizers import Adam\n",
    "from collections import Counter, deque\n",
    "from keras.models import Sequential\n",
    "from keras.layers import Dense, Dropout, Flatten, LeakyReLU\n",
    "from keras.layers import Conv2D, MaxPooling2D\n",
    "from keras.optimizers import RMSprop\n",
    "from keras import backend as K"
   ]
  },
  {
   "cell_type": "code",
   "execution_count": 30,
   "metadata": {},
   "outputs": [],
   "source": [
    "def build_model(input_shape, n_actions):\n",
    "    model = Sequential()\n",
    "    model.add(Conv2D(32, kernel_size=(5, 5),\n",
    "                     activation='relu',\n",
    "                     input_shape=input_shape))\n",
    "    model.add(Conv2D(64, (3, 3), activation='relu'))\n",
    "    model.add(MaxPooling2D(pool_size=(2, 2)))\n",
    "    model.add(Dropout(0.3))\n",
    "    model.add(Flatten())\n",
    "    model.add(Dense(128))\n",
    "    model.add(LeakyReLU(alpha=0.15))\n",
    "    model.add(Dropout(0.3))\n",
    "    model.add(Dense(n_actions, activation='linear'))\n",
    "    model.compile(Adam(lr=1e-3), 'mae')#, batch_size=1024)\n",
    "    return model"
   ]
  },
  {
   "cell_type": "code",
   "execution_count": 21,
   "metadata": {},
   "outputs": [],
   "source": [
    "env = WarehouseEnv(\n",
    "    map_sketch=wm.wh_vis_map, \n",
    "    catalog=None, \n",
    "    num_turns=2000, \n",
    "    max_order_line=None,\n",
    "    agent_max_load=200, \n",
    "    agent_max_volume=1000,\n",
    "    agent_start_pos=(9, 9),\n",
    "    shelf_max_load=200, \n",
    "    shelf_max_volume=100,\n",
    "    frequency=0.05, \n",
    "    simplified_state=False,\n",
    "    only_one_product= True, \n",
    "    win_size=(300, 200), \n",
    "    silent=True\n",
    ")"
   ]
  },
  {
   "cell_type": "code",
   "execution_count": 54,
   "metadata": {},
   "outputs": [],
   "source": [
    "model = build_model(input_shape=(14,20,1), n_actions=env.action_space.n)\n",
    "model.load_weights('callbacks/dqn_rl-run_weights_150000.h5f')"
   ]
  },
  {
   "cell_type": "code",
   "execution_count": 64,
   "metadata": {},
   "outputs": [
    {
     "data": {
      "image/png": "[encoded data removed]",
      "text/plain": [
       "<Figure size 432x288 with 1 Axes>"
      ]
     },
     "metadata": {
      "needs_background": "light"
     },
     "output_type": "display_data"
    },
    {
     "name": "stdout",
     "output_type": "stream",
     "text": [
      "1 -10 [709.2982  717.8328  724.0698  705.47046 709.27423 744.12195 719.1762 ]\n",
      "Timesteps taken: 2000\n",
      "Penalties incurred: 1\n"
     ]
    }
   ],
   "source": [
    "epochs = 0\n",
    "penalties, reward = 0, 0\n",
    "\n",
    "frames = [] # for animation\n",
    "\n",
    "done = False\n",
    "\n",
    "state = env.reset()\n",
    "while not done:\n",
    "    pred = model.predict(state[np.newaxis, :, :, :])[0]\n",
    "    action = np.argsort(pred)[3]\n",
    "    state, reward, done, info = env.step(action)\n",
    "    if reward < -10:\n",
    "        penalties += 1\n",
    "    env.render(mode='ipynb')\n",
    "    print(action, reward, pred)\n",
    "\n",
    "    epochs += 1\n",
    "    \n",
    "    \n",
    "print(\"Timesteps taken: {}\".format(epochs))\n",
    "print(\"Penalties incurred: {}\".format(penalties))"
   ]
  },
  {
   "cell_type": "code",
   "execution_count": null,
   "metadata": {},
   "outputs": [],
   "source": []
  }
 ],
 "metadata": {
  "kernelspec": {
   "display_name": "Python 3",
   "language": "python",
   "name": "python3"
  },
  "language_info": {
   "codemirror_mode": {
    "name": "ipython",
    "version": 3
   },
   "file_extension": ".py",
   "mimetype": "text/x-python",
   "name": "python",
   "nbconvert_exporter": "python",
   "pygments_lexer": "ipython3",
   "version": "3.7.3"
  }
 },
 "nbformat": 4,
 "nbformat_minor": 2
}
