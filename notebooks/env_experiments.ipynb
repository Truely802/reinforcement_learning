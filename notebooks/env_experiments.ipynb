{
 "cells": [
  {
   "cell_type": "code",
   "execution_count": 2,
   "metadata": {},
   "outputs": [],
   "source": [
    "import numpy as np \n",
    "import pandas as pd \n",
    "\n",
    "import os\n",
    "import sys"
   ]
  },
  {
   "cell_type": "code",
   "execution_count": 3,
   "metadata": {},
   "outputs": [],
   "source": [
    "#addition module dir to path\n",
    "module_dir = os.path.split( os.getcwd() )[:-1][0]\n",
    "sys.path.append(module_dir)"
   ]
  },
  {
   "cell_type": "code",
   "execution_count": 4,
   "metadata": {},
   "outputs": [],
   "source": [
    "%load_ext autoreload\n",
    "%autoreload 2"
   ]
  },
  {
   "cell_type": "code",
   "execution_count": 5,
   "metadata": {},
   "outputs": [],
   "source": [
    "pd.set_option('display.max_columns', 500)\n",
    "pd.set_option('display.max_rows', 5000)"
   ]
  },
  {
   "cell_type": "code",
   "execution_count": 10,
   "metadata": {},
   "outputs": [],
   "source": [
    "src_dir = os.getcwd()\n",
    "data_dir = '/Users/albelyakov/Data/rl_warehouse'"
   ]
  },
  {
   "cell_type": "markdown",
   "metadata": {},
   "source": [
    "#### Working with map"
   ]
  },
  {
   "cell_type": "code",
   "execution_count": 28,
   "metadata": {},
   "outputs": [],
   "source": [
    "from src.envs import wh_map as wm\n",
    "from src.envs import wh_objects as wo"
   ]
  },
  {
   "cell_type": "code",
   "execution_count": 22,
   "metadata": {},
   "outputs": [],
   "source": [
    "def render_map(map_obj, agent_obj):\n",
    "    os.system('clear')\n",
    "    for i, row in enumerate(map_obj):\n",
    "        to_print = list()\n",
    "        for j, obj in enumerate(row):\n",
    "            if (i, j) == agent_obj.coordinates:\n",
    "                to_print.append(agent_obj.sprite)\n",
    "            else:\n",
    "                to_print.append(obj.sprite)\n",
    "        print(''.join(to_print))"
   ]
  },
  {
   "cell_type": "code",
   "execution_count": 29,
   "metadata": {},
   "outputs": [],
   "source": [
    "map_obj = wm.init_wh_map(wm.wh_vis_map)"
   ]
  },
  {
   "cell_type": "code",
   "execution_count": 18,
   "metadata": {},
   "outputs": [
    {
     "name": "stdout",
     "output_type": "stream",
     "text": [
      "++++++++++++++++++++\n",
      "+.#..#..#..#..#..#.+\n",
      "+.#..#..#..#..#..#.+\n",
      "+.#..#..#..#..#..#.+\n",
      "+.#..#..#..#..#..#.+\n",
      "+..................+\n",
      "+..................+\n",
      "+.#######..#######.+\n",
      "+..................+\n",
      "+..................+\n",
      "+.#######..#######.+\n",
      "+..................+\n",
      "+..................+\n",
      "+.##..##..##..##..#+\n",
      "+.##..##..##..##..#+\n",
      "+.##..##..##..##..#+\n",
      "+.##..##..##..##..#+\n",
      "+..................+\n",
      "+..................+\n",
      "+..................+\n",
      "+$$$$$$$$$$$$$$$$$$+\n"
     ]
    }
   ],
   "source": [
    "render_map(map_obj)"
   ]
  },
  {
   "cell_type": "code",
   "execution_count": 31,
   "metadata": {},
   "outputs": [],
   "source": [
    "agent = wo.Agent(\n",
    "    coordinates=(18,9)\n",
    ")"
   ]
  },
  {
   "cell_type": "code",
   "execution_count": 32,
   "metadata": {},
   "outputs": [
    {
     "name": "stdout",
     "output_type": "stream",
     "text": [
      "++++++++++++++++++++\n",
      "+.#..#..#..#..#..#.+\n",
      "+.#..#..#..#..#..#.+\n",
      "+.#..#..#..#..#..#.+\n",
      "+.#..#..#..#..#..#.+\n",
      "+..................+\n",
      "+..................+\n",
      "+.#######..#######.+\n",
      "+..................+\n",
      "+..................+\n",
      "+.#######..#######.+\n",
      "+..................+\n",
      "+..................+\n",
      "+.##..##..##..##..#+\n",
      "+.##..##..##..##..#+\n",
      "+.##..##..##..##..#+\n",
      "+.##..##..##..##..#+\n",
      "+..................+\n",
      "+........X.........+\n",
      "+..................+\n",
      "+$$$$$$$$$$$$$$$$$$+\n"
     ]
    }
   ],
   "source": [
    "render_map(map_obj, agent)"
   ]
  },
  {
   "cell_type": "code",
   "execution_count": null,
   "metadata": {},
   "outputs": [],
   "source": []
  }
 ],
 "metadata": {
  "kernelspec": {
   "display_name": "Python 3",
   "language": "python",
   "name": "python3"
  },
  "language_info": {
   "codemirror_mode": {
    "name": "ipython",
    "version": 3
   },
   "file_extension": ".py",
   "mimetype": "text/x-python",
   "name": "python",
   "nbconvert_exporter": "python",
   "pygments_lexer": "ipython3",
   "version": "3.7.3"
  }
 },
 "nbformat": 4,
 "nbformat_minor": 2
}
